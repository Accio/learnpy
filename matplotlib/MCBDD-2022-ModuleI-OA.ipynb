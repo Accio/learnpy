{
 "cells": [
  {
   "cell_type": "markdown",
   "id": "34329c6d",
   "metadata": {},
   "source": [
    "# MCBDD 2022 Module I Offline Activities\n",
    "Jitao David Zhang\n",
    "\n",
    "Offline activities and the Google Form to submit: https://forms.gle/Upe54w9upH8JFPsg6"
   ]
  },
  {
   "cell_type": "code",
   "execution_count": null,
   "id": "824bc3b1",
   "metadata": {},
   "outputs": [],
   "source": [
    "## prepare for visualizations\n",
    "%matplotlib inline\n",
    "\n",
    "import matplotlib.pyplot as plt\n",
    "import numpy\n",
    "\n",
    "plt.style.available\n",
    "plt.style.use('ggplot')"
   ]
  },
  {
   "cell_type": "markdown",
   "id": "200f2346",
   "metadata": {},
   "source": [
    "## Task 1\n",
    "\n",
    "### Question\n",
    "\n",
    "The company *Fränzi and Friends* developed a new quick test at home for SARS-Cov-2 which is pending regulatory agency’s review. The test has been shown to have a sensitivity of 99% and a specificity of 99%. Suppose that Fred uses the test by Fränzi and Friends and the test was positive. Assume that 5% of the population is in fact infected. Was is your guess about the probability that Fred is indeed infected?\n",
    "\n",
    "### Analysis\n",
    "\n",
    "We let $I$ denote an event of *infection* and $H$ to indicate an event of non-infection (healthy). Then $p(I)$ indicates the probability that someone from a population that we are studying is infected, $p(H)$ the prbobability of someone being healthy. Let us assume that someone is either infected or healthy, which means that $p(I)+p(H)=1$. \n",
    "\n",
    "Similarily, $P$ indicates a positive test and $N$ indicates a negative test. Let us assume that a test is either positive or negative, then $p(P)+p(N)=1$.\n",
    "\n",
    "Furthermore, we can define the following terms:\n",
    "\n",
    "* $p(P|I)$ indicates the *conditional probability* of someone receiving a positive test *given that* she is infected, which is the sensitivity of the test - 99% in our example above.\n",
    "* $p(N|H)$ indicates the *conditional probability* of someone receiving a negative test *given that* she is healthy, which is the specificity of the test - 99% in our example above.\n",
    "\n",
    "We let $p(P,I)$ indicate the probability that someone is both infected and tested positive. What is this probability? It is **not** $p(P) \\times p(I)$, because an infection and a positive test is definitely not independent from each other. Instead, we can think of the event that someone is both infected and tested positive as a two-step event: first, someone must first be infected ($p(I)$); second, given that she is infected, she is tested positive ($p(P|I)$). Since both steps must happen, we have $p(P,I)=p(I)p(P|I)=p(I|P)p(P)$, *i.e.* the probability of being infected ($p(I)$) multiplied by the probability of being positively tested given that the person is infected ($p(P|I)$). This is known as the *chain rule* of probability.\n",
    "\n",
    "We can also switch the two steps to arrive at $p(P,I)$: first, someone must be tested positive ($p(P)$); second, given that she is positively tested, she is infected ($P(I|P)$). Or equivalently, $p(P,I)=p(P)p(I|P)$. If you may find this less intuitive, think of a quick test which is followed by an more accurate but laborious PCR test.\n",
    "\n",
    "We reach an interesting equation:\n",
    "\n",
    "$$ p(P)p(I|P)=p(I)p(P|I) $$\n",
    "\n",
    "Or equivalantly,\n",
    "\n",
    "$$ P(I|P) = \\frac{p(I)p(P|I)}{p(P)} $$\n",
    "\n",
    "This equation is known as the *Bayes theorem*. \n",
    "\n",
    "Given that any person that is being tested positive is either infected or healthy, we can write $p(P)=p(P,I)+p(P,H)=p(P|I)p(I)+p(P|H)p(H)$, or equivalently $p(P)=p(I|P)p(P)+p(H|P)p(P)$, thanks to the Bayes theorem. Therefore we also call $p(P)$ a *marginal probability*, which sum up all subordinate *conditional probabilities*. \n",
    "\n",
    "Having gained the ability of writing down the marginal probability, we can rewrite the Bayes theorem as\n",
    "\n",
    "$$ P(I|P) = \\frac{p(I)p(P|I)}{p(I)p(P|I)+p(H)p(P|H)} $$\n",
    "\n",
    "Now we are ready to tackle the original question: following the denotations above, we can translate the question into $p(I|P)$, the probability of Fred being infected that he is tested positive. Then we just need to get values for each symbol on the right side of the equation:\n",
    "\n",
    "1. The question states that 5% of the population is in fact infected, namely $p(I)=0.05$. Since we assume that anyone is either healthy or infected, we have $p(H)=0.95$.\n",
    "2. $p(P|I)=0.99$\n",
    "3. We are only left with $p(P|H)$, *i.e.* the probability that a healthy person is tested positive, which we not know yet. \n",
    "    1. However, using Bayes theorem again, we can re-write it as $p(P|H)=\\frac{p(H|P)p(P)}{p(H)}$. So the only item we do not know now is $p(H|P)$.\n",
    "    2. \n",
    "\n",
    "$p(I|P) = \\frac{p(P|I)p(I)}{p(I)}$\n",
    "\n",
    "It follows that $p(H)=1-0.05=0.95$. Given the sensitivity $p(P|I)=0.99$, we can derive the *false positive rate* $p(P|H)"
   ]
  },
  {
   "cell_type": "code",
   "execution_count": null,
   "id": "d4958aba",
   "metadata": {},
   "outputs": [],
   "source": []
  }
 ],
 "metadata": {
  "kernelspec": {
   "display_name": "Python 3",
   "language": "python",
   "name": "python3"
  },
  "language_info": {
   "codemirror_mode": {
    "name": "ipython",
    "version": 3
   },
   "file_extension": ".py",
   "mimetype": "text/x-python",
   "name": "python",
   "nbconvert_exporter": "python",
   "pygments_lexer": "ipython3",
   "version": "3.8.10"
  }
 },
 "nbformat": 4,
 "nbformat_minor": 5
}
