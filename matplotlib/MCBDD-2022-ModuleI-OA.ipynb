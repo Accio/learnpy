{
 "cells": [
  {
   "cell_type": "markdown",
   "id": "847886f0",
   "metadata": {},
   "source": [
    "# MCBDD 2022 Module I Offline Activities\n",
    "Jitao David Zhang\n",
    "\n",
    "Offline activities and the Google Form to submit: https://forms.gle/Upe54w9upH8JFPsg6"
   ]
  },
  {
   "cell_type": "code",
   "execution_count": 1,
   "id": "c3c655a1",
   "metadata": {},
   "outputs": [
    {
     "data": {
      "application/javascript": [
       "if (typeof require !== 'undefined')\n",
       "    require.config({\n",
       "        paths: {\n",
       "            jquery: 'https://code.jquery.com/jquery-3.5.1.min',\n",
       "            datatables: 'https://cdn.datatables.net/1.11.3/js/jquery.dataTables.min',\n",
       "        }\n",
       "    });\n"
      ],
      "text/plain": [
       "<IPython.core.display.Javascript object>"
      ]
     },
     "metadata": {},
     "output_type": "display_data"
    }
   ],
   "source": [
    "## prepare for visualizations\n",
    "%matplotlib inline\n",
    "\n",
    "import matplotlib.pyplot as plt\n",
    "import numpy as np\n",
    "import pandas as pd\n",
    "\n",
    "plt.style.available\n",
    "plt.style.use('ggplot')\n",
    "\n",
    "from itables import init_notebook_mode\n",
    "init_notebook_mode(all_interactive=True)"
   ]
  },
  {
   "cell_type": "markdown",
   "id": "eeecd248",
   "metadata": {},
   "source": [
    "## Task 1\n",
    "\n",
    "### Question\n",
    "\n",
    "The company *Fränzi and Friends* developed a new quick test at home for SARS-Cov-2 which is pending the approval of regulatory agencies. The test has been shown to have a sensitivity of 99% and a specificity of 99%. Suppose that Fred uses the test by *Fränzi and Friends* and the test was positive. Assume that 5% of the population is in fact infected. Was is your guess about the probability that Fred is indeed infected?"
   ]
  },
  {
   "cell_type": "markdown",
   "id": "6727f772",
   "metadata": {},
   "source": [
    "### An integer approach\n",
    "\n",
    "As we learned in the class, probability problems are sometimes easier to understand with integer examples.\n",
    "\n",
    "In this case, let us assume that Fred lives in a community of 10000 people. According to the question, 500 of them are  infected and the rest 9500 not infected. \n",
    "\n",
    "Assume that each one in the community is tested by the test developed by *Fränzi and Friends*. Among the 500 infected individuals, 495 will report a positive test result and 5 will report a negative result, because of the sensitivity of 99\\%. Among the 9500 non-infected individuals, 9405 will report a negative result and 95 will report a positive one, because of the specificity of 99\\%.\n",
    "\n",
    "Taken together, we have 590 people who will report a positive test result, which consists of 495 true infected individuals (*true positives*) and 95 non-infected individuals (*false positives*). Since Fred is one of the 590 people who report a positive test result, the probability that he is indeed infected is 495/590=84%.\n",
    "\n",
    "The data can be also represented in a table, like this"
   ]
  },
  {
   "cell_type": "markdown",
   "id": "57471538",
   "metadata": {},
   "source": [
    "|                       | Infected    |  Non-infected | Total  |\n",
    "| --------------------- | ----------- |  ------------ | ------ |\n",
    "| Positively tested     | 495         |  95           |  590   |\n",
    "| Negatively tested     | 5           |  9405         |  9410  |\n",
    "| **Total**             | 500         |  9500         |  10000 |\n"
   ]
  },
  {
   "cell_type": "markdown",
   "id": "d1fd97b8",
   "metadata": {},
   "source": [
    "Two additional, optional tasks:\n",
    "\n",
    "1. Try to verify with another number (say 5000) that the probability is not affected by the imaginary sample size that we chose.\n",
    "2. Suppose that Fred receives a negative test result, what is the probability that he is nevertheless infected?"
   ]
  },
  {
   "cell_type": "markdown",
   "id": "098bafe8",
   "metadata": {},
   "source": [
    "### A probabilistic approach\n",
    "\n",
    "The probabilistic approach follows the same line of logic as the integer approach, though we need some denotations and some help from the probability theory.\n",
    "\n",
    "We let $I$ denote the event of *infection* and $H$ denote the event of non-infection (healthy). Then $p(I)$ indicates the probability that someone from a population, in our example the anxious Fred, is infected, and $p(H)$ indicates the probability that Fred is healthy. Let us assume that the matter of being infected or healthy is exclusive, namely anyone is either infected or healthy, in which case $p(I)+p(H)=1$. \n",
    "\n",
    "Similarily, $P$ indicates the probabily that Fred receives a positive test result and $N$ indicates the probability of a negative test result. Let us assume that two events are exclusive, namely a test is either positive or negative, then $p(P)+p(N)=1$.\n",
    "\n",
    "Furthermore, we can define the following terms:\n",
    "\n",
    "* $p(P|I)$ indicates the *conditional probability* of Fred receiving a positive test *given that* Fred is infected, which is the sensitivity of the test - 99% in our example above. \n",
    "    * What does the adjective *conditional* suggest? It suggests that knowing one event may change our belief of the porbability of another event. In this case, having known that Fred is infected, the probability that he receives a positive test result ($p(P|I)$) is way higher than the probability that Fred receives a positive test result if we do not know whether he is infected or not ($p(P)$). If you are not sure about this, use the integer approach to verify it.\n",
    "* $p(N|H)$ indicates the *conditional probability* of Fred receiving a negative test *given that* Fred is healthy, which is the specificity of the test - 99% in our example above.\n",
    "\n",
    "We let $p(P,I)$ indicate the probability that someone is both infected and tested positive, which is known as a *joint probability* of two events. What is this probability? It is **not** $p(P) \\times p(I)$, because an infection and a positive test is definitely not independent from each other. Instead, we can think of the event that someone is both infected and tested positive as a two-step event: first, someone must be infected ($p(I)$); second, given that she is infected, she is tested positive ($p(P|I)$). Since both steps must happen, we have $p(P,I)=p(I)p(P|I)$, *i.e.* the probability of being infected ($p(I)$) multiplied by the probability of being positively tested given that the person is infected ($p(P|I)$). This is known as the *chain rule* of probability. The chain rule can be equivalently written as $p(P,I)=p(P|I)p(I)$.\n",
    "\n",
    "We can also switch the two steps to arrive at $p(P,I)$: first, someone must be tested positive ($p(P)$); second, given that she is positively tested, she is infected ($p(I|P)$). Or equivalently, $p(P,I)=p(P)p(I|P)$. If you find this less intuitive, think of a quick test which is followed by an more accurate but laborious PCR test.\n",
    "\n",
    "Having seen both ways to write $p(P,I)$, we reach an intriguing observation:\n",
    "\n",
    "$$ p(P)p(I|P)=p(I)p(P|I) $$\n",
    "\n",
    "Or equivalantly,\n",
    "\n",
    "$$ p(I|P) = \\frac{p(I)p(P|I)}{p(P)} $$\n",
    "\n",
    "This equation is known as the *Bayes theorem*. \n",
    "\n",
    "Given that any person that is being tested positive is either infected or healthy, we can write $p(P)=p(P,I)+p(P,H)=p(P|I)p(I)+p(P|H)p(H)$, or equivalently $p(P)=p(I|P)p(P)+p(H|P)p(P)$, using either the Bayes theorem, or by noting that $p(I|P)+p(H|p)=1$, which remains valid if we multiply both sides with $p(P)$. Given that the two forms are equivalent, we can choose a form that is more convenient for us to solve the problem at hand, as we will see below. And since both forms are equivalent with each other, we can call $p(P)$ a *marginal probability*, which sum up all subordinate *conditional probabilities*. Apparently a marginal probability can be written as sums (or integrals) of conditional probabilities in more than one ways.\n",
    "\n",
    "Having gained the ability of writing down the marginal probability, we can rewrite the Bayes theorem as\n",
    "\n",
    "$$ p(I|P) = \\frac{p(I)p(P|I)}{p(I)p(P|I)+p(H)p(P|H)} $$\n",
    "\n",
    "Why did we choose this form but not the alternative form, $p(P)p(I|P)+p(P)p(H|P)$, of $p(P)$? Because the information provided by the original question comes in the former form, as you can see now.\n",
    "\n",
    "Following the denotations above, we can translate the original question to solving $p(I|P)$, the probability of Fred being infected that he is tested positive. We now need to get values for each symbol on the right side of the equation:\n",
    "\n",
    "1. The question states that 5% of the population is infected, namely $p(I)=0.05$ and $p(H)=0.95$;\n",
    "2. The sensitivity of the test is given by $p(P|I)=0.99$;\n",
    "3. We are only left with $p(P|H)$, *i.e.* the probability that a healthy person is tested positive, which we cannot get from the question directly. However, we notice that $p(P|H)+p(N|H)=1$, since any healthy individual is tested either positive or negative. Therefore, $p(P|H)=1-p(N|H)=1-0.99=0.01$.\n",
    "\n",
    "Now we have everything that we need to calculate $p(I|P)$:\n",
    "\n",
    "$$ p(I|P) = \\frac{p(I)p(P|I)}{p(I)p(P|I)+p(H)p(P|H)}\n",
    "        = \\frac{0.05 \\times 0.99}{0.05 \\times 0.99 + 0.95 \\times 0.01}\n",
    "        \\approx 0.84 \n",
    "$$\n",
    "\n",
    "It means that when the sensitivity and specificity of the test is both 99\\%, and the probability of any invididual being infected is 5%, the probability that Fred is indeed infected is 84\\% given that he is positively tested. We reach the same conclusion as the integer approach above."
   ]
  },
  {
   "cell_type": "code",
   "execution_count": 2,
   "id": "d4958aba",
   "metadata": {},
   "outputs": [
    {
     "data": {
      "text/plain": [
       "0.8389830508474576"
      ]
     },
     "execution_count": 2,
     "metadata": {},
     "output_type": "execute_result"
    }
   ],
   "source": [
    "(0.05*0.99)/(0.05*0.99+0.95*0.01)"
   ]
  },
  {
   "cell_type": "markdown",
   "id": "dc420613",
   "metadata": {},
   "source": [
    "### Towards a general solution\n",
    "\n",
    "Given that the probabilistic approach gives the same result as the integer approach, were all the denotations and efforts entailed by the probabilistic approach worthless efforts? Besides highlighting basic and essential concepts of probabilistic theory and Bayesian inference, the probabilistic approach offers us a general solution."
   ]
  },
  {
   "cell_type": "code",
   "execution_count": 3,
   "id": "11458ed4",
   "metadata": {},
   "outputs": [],
   "source": [
    "def prop_inf_given_pos(infection_prevalence: float,\n",
    "                       sensitivity: float,\n",
    "                       specificity: float):\n",
    "    res = infection_prevalence * sensitivity/(infection_prevalence * sensitivity +\n",
    "                                       (1-infection_prevalence)*(1-specificity))\n",
    "    return res"
   ]
  },
  {
   "cell_type": "markdown",
   "id": "d5cfa2f5",
   "metadata": {},
   "source": [
    "The following function call verifies our general solution with the example above."
   ]
  },
  {
   "cell_type": "code",
   "execution_count": 4,
   "id": "610b3021",
   "metadata": {},
   "outputs": [
    {
     "data": {
      "text/plain": [
       "0.8389830508474575"
      ]
     },
     "execution_count": 4,
     "metadata": {},
     "output_type": "execute_result"
    }
   ],
   "source": [
    "prop_inf_given_pos(0.05, 0.99, 0.99)"
   ]
  },
  {
   "cell_type": "markdown",
   "id": "4297f5b0",
   "metadata": {},
   "source": [
    "We will use the general solution to solve the next task."
   ]
  },
  {
   "cell_type": "markdown",
   "id": "fd06a659",
   "metadata": {},
   "source": [
    "## Task 2\n",
    "\n",
    "### Question\n",
    "\n",
    "Please share a piece of code that visualizes the probability that Fred is indeed infected as the dependent variable, with the prevalence (5% in the example above, which takes any real-number value between 0.001% to 50%) and the specificity (99% in the example above, which takes values 99%, 99.9%, and 99.999%) as independent variables. For simplicity, we fix the sensitivity at 99%. Visualize the results if possible, and use integers to check and explain your results. Use any programming language that you prefer. Please put your code in GitHub or GitLab or other code-hosting service and paste the link below.\n",
    "\n",
    "### Visualization\n"
   ]
  }
 ],
 "metadata": {
  "kernelspec": {
   "display_name": "learnpy",
   "language": "python",
   "name": "learnpy"
  },
  "language_info": {
   "codemirror_mode": {
    "name": "ipython",
    "version": 3
   },
   "file_extension": ".py",
   "mimetype": "text/x-python",
   "name": "python",
   "nbconvert_exporter": "python",
   "pygments_lexer": "ipython3",
   "version": "3.9.7"
  }
 },
 "nbformat": 4,
 "nbformat_minor": 5
}
