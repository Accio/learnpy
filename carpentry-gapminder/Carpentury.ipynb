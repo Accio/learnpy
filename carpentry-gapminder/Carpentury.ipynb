{
 "cells": [
  {
   "cell_type": "markdown",
   "metadata": {},
   "source": [
    "# Software Carpentury: Python Novice Gapminder"
   ]
  },
  {
   "cell_type": "markdown",
   "metadata": {},
   "source": [
    "## Chapter 1"
   ]
  },
  {
   "cell_type": "code",
   "execution_count": 1,
   "metadata": {},
   "outputs": [
    {
     "name": "stdout",
     "output_type": "stream",
     "text": [
      "21\n",
      "3\n"
     ]
    }
   ],
   "source": [
    "print(7 * 3)\n",
    "print(2 + 1)"
   ]
  },
  {
   "cell_type": "markdown",
   "metadata": {},
   "source": [
    "$\\sum_{i=1}^{N} 2^{-1} \\approx 1$"
   ]
  },
  {
   "cell_type": "markdown",
   "metadata": {},
   "source": [
    "## Chapter 2"
   ]
  },
  {
   "cell_type": "code",
   "execution_count": 2,
   "metadata": {},
   "outputs": [],
   "source": [
    "age = 11\n",
    "first_name = 'Harry'"
   ]
  },
  {
   "cell_type": "code",
   "execution_count": 3,
   "metadata": {},
   "outputs": [
    {
     "name": "stdout",
     "output_type": "stream",
     "text": [
      "Harry is 11 years old\n"
     ]
    }
   ],
   "source": [
    "print(first_name, 'is', age, 'years old')"
   ]
  },
  {
   "cell_type": "code",
   "execution_count": 4,
   "metadata": {},
   "outputs": [
    {
     "name": "stdout",
     "output_type": "stream",
     "text": [
      "y\n",
      "hyd\n",
      "8\n"
     ]
    }
   ],
   "source": [
    "atom_name = 'hydrogen'\n",
    "print(atom_name[1])\n",
    "print(atom_name[0:3])\n",
    "print(len(atom_name))"
   ]
  },
  {
   "cell_type": "code",
   "execution_count": 5,
   "metadata": {},
   "outputs": [
    {
     "data": {
      "text/plain": [
       "'2'"
      ]
     },
     "execution_count": 5,
     "metadata": {},
     "output_type": "execute_result"
    }
   ],
   "source": [
    "a = 123\n",
    "str(a)[1]"
   ]
  },
  {
   "cell_type": "code",
   "execution_count": 6,
   "metadata": {},
   "outputs": [
    {
     "data": {
      "text/plain": [
       "'def'"
      ]
     },
     "execution_count": 6,
     "metadata": {},
     "output_type": "execute_result"
    }
   ],
   "source": [
    "'abcdefg'[3:-1]"
   ]
  },
  {
   "cell_type": "code",
   "execution_count": 7,
   "metadata": {},
   "outputs": [
    {
     "data": {
      "text/plain": [
       "'defaedgaer'"
      ]
     },
     "execution_count": 7,
     "metadata": {},
     "output_type": "execute_result"
    }
   ],
   "source": [
    "'abcdefaedgaer'[3:100]"
   ]
  },
  {
   "cell_type": "markdown",
   "metadata": {},
   "source": [
    "## Chapter 3: Data Types and Type conversion"
   ]
  },
  {
   "cell_type": "code",
   "execution_count": 8,
   "metadata": {},
   "outputs": [
    {
     "name": "stdout",
     "output_type": "stream",
     "text": [
      "<class 'int'>\n",
      "<class 'str'>\n"
     ]
    }
   ],
   "source": [
    "print(type(age))\n",
    "print(type('average'))"
   ]
  },
  {
   "cell_type": "code",
   "execution_count": 9,
   "metadata": {},
   "outputs": [
    {
     "name": "stdout",
     "output_type": "stream",
     "text": [
      "==========\n"
     ]
    }
   ],
   "source": [
    "separator = '=' * 10\n",
    "print(separator)"
   ]
  },
  {
   "cell_type": "code",
   "execution_count": 10,
   "metadata": {},
   "outputs": [
    {
     "name": "stdout",
     "output_type": "stream",
     "text": [
      "3\n",
      "12\n",
      "3\n"
     ]
    }
   ],
   "source": [
    "print(len('abc'))\n",
    "## print(len(123))\n",
    "print(str(1) + '2')\n",
    "print(1 + int('2'))"
   ]
  },
  {
   "cell_type": "code",
   "execution_count": 11,
   "metadata": {},
   "outputs": [
    {
     "name": "stdout",
     "output_type": "stream",
     "text": [
      "2 2.6666666666666665 2\n"
     ]
    }
   ],
   "source": [
    "print(8 // 3, 8 / 3, 8 % 3)"
   ]
  },
  {
   "cell_type": "code",
   "execution_count": 12,
   "metadata": {},
   "outputs": [
    {
     "data": {
      "text/plain": [
       "3"
      ]
     },
     "execution_count": 12,
     "metadata": {},
     "output_type": "execute_result"
    }
   ],
   "source": [
    "int(float('3.5'))"
   ]
  },
  {
   "cell_type": "code",
   "execution_count": 13,
   "metadata": {},
   "outputs": [],
   "source": [
    "## int('3.4') ## --> for consistency: to perform two consecutive typecasts (str->float->int), you must convert it explicitly in the code"
   ]
  },
  {
   "cell_type": "code",
   "execution_count": 14,
   "metadata": {},
   "outputs": [
    {
     "data": {
      "text/plain": [
       "int"
      ]
     },
     "execution_count": 14,
     "metadata": {},
     "output_type": "execute_result"
    }
   ],
   "source": [
    "type(int(1.0)+int(float('1.1')))"
   ]
  },
  {
   "cell_type": "markdown",
   "metadata": {},
   "source": [
    "## Built-in functions and help"
   ]
  },
  {
   "cell_type": "code",
   "execution_count": 15,
   "metadata": {},
   "outputs": [
    {
     "name": "stdout",
     "output_type": "stream",
     "text": [
      "example\n",
      "The result of print is None\n"
     ]
    }
   ],
   "source": [
    "result = print('example')\n",
    "print('The result of print is', result)"
   ]
  },
  {
   "cell_type": "code",
   "execution_count": 16,
   "metadata": {},
   "outputs": [
    {
     "data": {
      "text/plain": [
       "'b'"
      ]
     },
     "execution_count": 16,
     "metadata": {},
     "output_type": "execute_result"
    }
   ],
   "source": [
    "max('0', 'a', 'b')"
   ]
  },
  {
   "cell_type": "markdown",
   "metadata": {},
   "source": [
    "Functions that are attached to objects are called methods. Methods have parentheses, come after the variable, and can be special internal funcs."
   ]
  },
  {
   "cell_type": "code",
   "execution_count": 17,
   "metadata": {},
   "outputs": [
    {
     "name": "stdout",
     "output_type": "stream",
     "text": [
      "12\n",
      "hELLO WORLD!\n",
      "12\n"
     ]
    }
   ],
   "source": [
    "my_string = 'Hello world!'\n",
    "print(len(my_string))\n",
    "print(my_string.swapcase())\n",
    "print(my_string.__len__())"
   ]
  },
  {
   "cell_type": "code",
   "execution_count": 18,
   "metadata": {},
   "outputs": [
    {
     "name": "stdout",
     "output_type": "stream",
     "text": [
      "HELLO WORLD!\n",
      "Hello world!\n"
     ]
    }
   ],
   "source": [
    "print(my_string.upper())\n",
    "print(my_string)"
   ]
  },
  {
   "cell_type": "code",
   "execution_count": 19,
   "metadata": {},
   "outputs": [
    {
     "name": "stdout",
     "output_type": "stream",
     "text": [
      "Help on built-in function min in module builtins:\n",
      "\n",
      "min(...)\n",
      "    min(iterable, *[, default=obj, key=func]) -> value\n",
      "    min(arg1, arg2, *args, *[, key=func]) -> value\n",
      "    \n",
      "    With a single iterable argument, return its smallest item. The\n",
      "    default keyword-only argument specifies an object to return if\n",
      "    the provided iterable is empty.\n",
      "    With two or more arguments, return the smallest argument.\n",
      "\n"
     ]
    }
   ],
   "source": [
    "help(min)"
   ]
  },
  {
   "cell_type": "markdown",
   "metadata": {},
   "source": [
    "In Jupyter Notebook (Jupyter Lab), we can place the cursor near the function, hold down Shift and press Tab to get a hover window with help."
   ]
  },
  {
   "cell_type": "markdown",
   "metadata": {},
   "source": [
    "## Libraries\n",
    "\n",
    "A library is a collection of modules, but both terms are often used interchangeably."
   ]
  },
  {
   "cell_type": "code",
   "execution_count": 20,
   "metadata": {},
   "outputs": [
    {
     "name": "stdout",
     "output_type": "stream",
     "text": [
      "pi is 3.141592653589793\n",
      "cos(pi) is -1.0\n"
     ]
    }
   ],
   "source": [
    "import math\n",
    "\n",
    "print('pi is', math.pi)\n",
    "print('cos(pi) is', math.cos(math.pi))"
   ]
  },
  {
   "cell_type": "code",
   "execution_count": 21,
   "metadata": {},
   "outputs": [
    {
     "name": "stdout",
     "output_type": "stream",
     "text": [
      "cos(pi) is -1.0\n"
     ]
    }
   ],
   "source": [
    "from math import cos, sin, pi\n",
    "\n",
    "print('cos(pi) is', cos(pi))"
   ]
  },
  {
   "cell_type": "code",
   "execution_count": 22,
   "metadata": {},
   "outputs": [],
   "source": [
    "import matplotlib as mpl"
   ]
  },
  {
   "cell_type": "code",
   "execution_count": 23,
   "metadata": {},
   "outputs": [
    {
     "data": {
      "text/plain": [
       "9.999995000003334e-07"
      ]
     },
     "execution_count": 23,
     "metadata": {},
     "output_type": "execute_result"
    }
   ],
   "source": [
    "math.pow(3, .5)\n",
    "math.log1p(1E-6)"
   ]
  },
  {
   "cell_type": "code",
   "execution_count": 24,
   "metadata": {},
   "outputs": [],
   "source": [
    "# help(random)"
   ]
  },
  {
   "cell_type": "code",
   "execution_count": 25,
   "metadata": {},
   "outputs": [
    {
     "name": "stdout",
     "output_type": "stream",
     "text": [
      "T\n",
      "A\n"
     ]
    }
   ],
   "source": [
    "bases = 'GATATTACGA'\n",
    "import random\n",
    "random_index = random.randrange(len(bases))\n",
    "print(bases[random_index])\n",
    "\n",
    "print(random.sample(bases, 1)[0])"
   ]
  },
  {
   "cell_type": "markdown",
   "metadata": {},
   "source": [
    "## Chapter 7: reading tabular data into DataFrames"
   ]
  },
  {
   "cell_type": "code",
   "execution_count": 26,
   "metadata": {},
   "outputs": [
    {
     "name": "stdout",
     "output_type": "stream",
     "text": [
      "       country  gdpPercap_1952  gdpPercap_1957  gdpPercap_1962  \\\n",
      "0    Australia     10039.59564     10949.64959     12217.22686   \n",
      "1  New Zealand     10556.57566     12247.39532     13175.67800   \n",
      "\n",
      "   gdpPercap_1967  gdpPercap_1972  gdpPercap_1977  gdpPercap_1982  \\\n",
      "0     14526.12465     16788.62948     18334.19751     19477.00928   \n",
      "1     14463.91893     16046.03728     16233.71770     17632.41040   \n",
      "\n",
      "   gdpPercap_1987  gdpPercap_1992  gdpPercap_1997  gdpPercap_2002  \\\n",
      "0     21888.88903     23424.76683     26997.93657     30687.75473   \n",
      "1     19007.19129     18363.32494     21050.41377     23189.80135   \n",
      "\n",
      "   gdpPercap_2007  \n",
      "0     34435.36744  \n",
      "1     25185.00911  \n"
     ]
    }
   ],
   "source": [
    "import pandas as pd\n",
    "data = pd.read_csv('data/gapminder_gdp_oceania.csv')\n",
    "print(data)"
   ]
  },
  {
   "cell_type": "code",
   "execution_count": 30,
   "metadata": {},
   "outputs": [
    {
     "data": {
      "text/plain": [
       "13"
      ]
     },
     "execution_count": 30,
     "metadata": {},
     "output_type": "execute_result"
    }
   ],
   "source": [
    "len(data.columns)"
   ]
  },
  {
   "cell_type": "code",
   "execution_count": 32,
   "metadata": {},
   "outputs": [
    {
     "name": "stdout",
     "output_type": "stream",
     "text": [
      "Australia\n",
      "New Zealand\n"
     ]
    }
   ],
   "source": [
    "for country in data.iloc[:,0]:\n",
    "    print(country)"
   ]
  },
  {
   "cell_type": "markdown",
   "metadata": {},
   "source": [
    "In pandas, we use columns to store observed variables, and rows are observations."
   ]
  },
  {
   "cell_type": "code",
   "execution_count": null,
   "metadata": {},
   "outputs": [],
   "source": [
    "## we use index_col to specificy row names (row headings)\n",
    "data = pd.read_csv('data/gapminder_gdp_oceania.csv',\n",
    "                   index_col='country')\n",
    "print(data)"
   ]
  },
  {
   "cell_type": "code",
   "execution_count": null,
   "metadata": {},
   "outputs": [],
   "source": [
    "data.info()"
   ]
  },
  {
   "cell_type": "code",
   "execution_count": null,
   "metadata": {},
   "outputs": [],
   "source": [
    "data.columns ## data (member variable, or member), not a method, because there is no parentheses\n",
    "## colnames(data) in R"
   ]
  },
  {
   "cell_type": "code",
   "execution_count": null,
   "metadata": {},
   "outputs": [],
   "source": [
    "print(data.T) ## t in R"
   ]
  },
  {
   "cell_type": "code",
   "execution_count": null,
   "metadata": {},
   "outputs": [],
   "source": [
    "print(data.describe()) ## summary in R"
   ]
  },
  {
   "cell_type": "code",
   "execution_count": null,
   "metadata": {},
   "outputs": [],
   "source": [
    "americas = pd.read_csv('data/gapminder_gdp_americas.csv', index_col='country')\n",
    "americas.head(n=3)\n",
    "americas.T.tail(n=2)"
   ]
  },
  {
   "cell_type": "code",
   "execution_count": null,
   "metadata": {},
   "outputs": [],
   "source": [
    "americas.T.to_csv('data/americas_T.csv')"
   ]
  },
  {
   "cell_type": "markdown",
   "metadata": {},
   "source": [
    "## Chapter 8: data frames"
   ]
  },
  {
   "cell_type": "markdown",
   "metadata": {},
   "source": [
    "* A DataFrame is a collection of Series, like in R a data.frame is vertically aligned lists. \n",
    "* Pandas is built upon Numpy, therefore most methods defined for Numpy Arrays also apply to Pandas Series or DataFrames."
   ]
  },
  {
   "cell_type": "code",
   "execution_count": null,
   "metadata": {},
   "outputs": [],
   "source": [
    "## .iloc[...,...]\n",
    "data = pd.read_csv('data/gapminder_gdp_europe.csv', index_col='country')\n",
    "data.head()"
   ]
  },
  {
   "cell_type": "code",
   "execution_count": null,
   "metadata": {},
   "outputs": [],
   "source": [
    "print(data.iloc[0,0])"
   ]
  },
  {
   "cell_type": "code",
   "execution_count": null,
   "metadata": {},
   "outputs": [],
   "source": [
    "print(data.loc['Albania','gdpPercap_1952'])"
   ]
  },
  {
   "cell_type": "code",
   "execution_count": null,
   "metadata": {},
   "outputs": [],
   "source": [
    "print(data.loc['Albania', :])"
   ]
  },
  {
   "cell_type": "code",
   "execution_count": null,
   "metadata": {},
   "outputs": [],
   "source": [
    "print(data.loc['Albania'])"
   ]
  },
  {
   "cell_type": "code",
   "execution_count": null,
   "metadata": {},
   "outputs": [],
   "source": [
    "print(data.loc[:, 'gdpPercap_1952'])"
   ]
  },
  {
   "cell_type": "code",
   "execution_count": null,
   "metadata": {},
   "outputs": [],
   "source": [
    "print(data['gdpPercap_1952']) ## not .loc! print(data.loc['gdpPercap_1952'])"
   ]
  },
  {
   "cell_type": "code",
   "execution_count": null,
   "metadata": {},
   "outputs": [],
   "source": [
    "data.loc['Albania']  ## df.loc(rowname) selects a row\n",
    "data['gdpPercap_1952'] ## df[column] selects a column"
   ]
  },
  {
   "cell_type": "code",
   "execution_count": null,
   "metadata": {},
   "outputs": [],
   "source": [
    "print(data.loc['Italy':'Poland', 'gdpPercap_1962':'gdpPercap_1972']) ## note that slicing using loc is inclusive at both ends!"
   ]
  },
  {
   "cell_type": "code",
   "execution_count": null,
   "metadata": {},
   "outputs": [],
   "source": [
    "print(data.loc['Italy':'Poland', 'gdpPercap_1962':'gdpPercap_1972'].max()) ## .max runs per Series/column"
   ]
  },
  {
   "cell_type": "code",
   "execution_count": null,
   "metadata": {},
   "outputs": [],
   "source": [
    "subset = data.loc['Italy':'Poland', 'gdpPercap_1962':'gdpPercap_1972']\n",
    "print('\\nWhere are values large?\\n', subset > 10000)"
   ]
  },
  {
   "cell_type": "code",
   "execution_count": null,
   "metadata": {},
   "outputs": [],
   "source": [
    "mask = subset > 10000 ## a mask = a frame of booleans\n",
    "print(type(mask))\n",
    "print(subset[mask]) ## gives NaNs, which are ignored by operations like max, min, or average (like NA in R)"
   ]
  },
  {
   "cell_type": "code",
   "execution_count": null,
   "metadata": {},
   "outputs": [],
   "source": [
    "print(subset[mask].describe())"
   ]
  },
  {
   "cell_type": "code",
   "execution_count": null,
   "metadata": {},
   "outputs": [],
   "source": [
    "mask_higher = data > data.mean()\n",
    "wealth_score = mask_higher.aggregate('sum', axis=1)/len(data.columns)\n",
    "wealth_score"
   ]
  },
  {
   "cell_type": "code",
   "execution_count": null,
   "metadata": {},
   "outputs": [],
   "source": [
    "data.groupby(wealth_score).sum()"
   ]
  },
  {
   "cell_type": "code",
   "execution_count": null,
   "metadata": {},
   "outputs": [],
   "source": [
    "print(data.idxmax())\n",
    "print(data.idxmin())"
   ]
  },
  {
   "cell_type": "code",
   "execution_count": null,
   "metadata": {},
   "outputs": [],
   "source": [
    "import numpy as np\n",
    "print(data['gdpPercap_1982'])\n",
    "print(data.loc['Denmark'])\n",
    "print(data.loc[:,'gdpPercap_1982':])\n",
    "print(data['gdpPercap_1982']/data['gdpPercap_1952'])\n"
   ]
  },
  {
   "cell_type": "code",
   "execution_count": null,
   "metadata": {},
   "outputs": [],
   "source": [
    "data.median()"
   ]
  },
  {
   "cell_type": "code",
   "execution_count": 45,
   "metadata": {},
   "outputs": [
    {
     "data": {
      "text/plain": [
       "True"
      ]
     },
     "execution_count": 45,
     "metadata": {},
     "output_type": "execute_result"
    }
   ],
   "source": [
    "nulldata = pd.read_csv('null.csv')\n",
    "math.isnan(nulldata.Label[1])"
   ]
  },
  {
   "cell_type": "code",
   "execution_count": 51,
   "metadata": {},
   "outputs": [
    {
     "data": {
      "text/plain": [
       "{0: 'A', 1: nan}"
      ]
     },
     "execution_count": 51,
     "metadata": {},
     "output_type": "execute_result"
    }
   ],
   "source": [
    "dict(nulldata.Label)"
   ]
  },
  {
   "cell_type": "markdown",
   "metadata": {},
   "source": [
    "## Chapter 9"
   ]
  },
  {
   "cell_type": "code",
   "execution_count": null,
   "metadata": {},
   "outputs": [],
   "source": [
    "%matplotlib inline\n",
    "import matplotlib.pyplot as plt\n",
    "## to make the plots of higher resolution: method 1\n",
    "import matplotlib as mpl\n",
    "mpl.rcParams['figure.dpi'] = 300\n",
    "## method 2\n",
    "%config InlineBackend.figure_format = 'svg'"
   ]
  },
  {
   "cell_type": "code",
   "execution_count": null,
   "metadata": {},
   "outputs": [],
   "source": [
    "time = [0, 1, 2, 3]\n",
    "position = [0, 100, 200, 300]\n",
    "\n",
    "plt.plot(time, position)\n",
    "plt.xlabel('Time [h]')\n",
    "plt.ylabel('Position (m)')\n",
    "plt.show()"
   ]
  },
  {
   "cell_type": "code",
   "execution_count": null,
   "metadata": {},
   "outputs": [],
   "source": [
    "data = pd.read_csv('data/gapminder_gdp_oceania.csv',\n",
    "                  index_col='country')\n",
    "years = data.columns.str.strip('gdpPercap_')\n",
    "print(years)\n",
    "print(data)\n",
    "## replace column names with years as integer\n",
    "data.columns = years.astype(int)\n",
    "data.loc['Australia'].plot()"
   ]
  },
  {
   "cell_type": "code",
   "execution_count": null,
   "metadata": {},
   "outputs": [],
   "source": [
    "years = data.columns\n",
    "gdp_australia = data.loc['Australia']\n",
    "\n",
    "plt.plot(years, gdp_australia, 'r.-')\n",
    "plt.show()"
   ]
  },
  {
   "cell_type": "code",
   "execution_count": null,
   "metadata": {},
   "outputs": [],
   "source": [
    "print(data)"
   ]
  },
  {
   "cell_type": "code",
   "execution_count": null,
   "metadata": {},
   "outputs": [],
   "source": [
    "data.T.plot() ## years in rows, countries in columns\n",
    "plt.ylabel('GDP per capita')\n",
    "plt.show()"
   ]
  },
  {
   "cell_type": "code",
   "execution_count": null,
   "metadata": {},
   "outputs": [],
   "source": [
    "## ggplot style\n",
    "plt.style.use('ggplot')\n",
    "data.T.plot(kind='bar')\n",
    "plt.ylabel('GDP per capita')"
   ]
  },
  {
   "cell_type": "code",
   "execution_count": null,
   "metadata": {},
   "outputs": [],
   "source": [
    "## plotting many sets of data\n",
    "gdp_australia = data.loc['Australia']\n",
    "gdp_nz = data.loc['New Zealand']\n",
    "\n",
    "plt.plot(years, gdp_australia, 'b-', label='AUS')\n",
    "plt.plot(years, gdp_nz, 'g-', label='NZ')\n",
    "\n",
    "plt.legend(loc='lower right')\n",
    "plt.xlabel('Year')\n",
    "plt.ylabel('GDP per capita [$]')"
   ]
  },
  {
   "cell_type": "code",
   "execution_count": null,
   "metadata": {},
   "outputs": [],
   "source": [
    "## scatter: plt.scatter or DataFrame.plot.scatter\n",
    "plt.scatter(gdp_australia, gdp_nz)\n",
    "plt.xlabel('Australia')\n",
    "plt.ylabel('New Zealand')"
   ]
  },
  {
   "cell_type": "code",
   "execution_count": null,
   "metadata": {},
   "outputs": [],
   "source": [
    "data.T.plot.scatter(x='Australia', y='New Zealand')"
   ]
  },
  {
   "cell_type": "code",
   "execution_count": null,
   "metadata": {},
   "outputs": [],
   "source": [
    "data_europe = pd.read_csv('data/gapminder_gdp_europe.csv', index_col='country')\n",
    "print(data_europe)\n",
    "data_europe.min().plot(label='min') ## .min() returns a Series\n",
    "data_europe.max().plot(label='max')\n",
    "plt.legend(loc='best')\n",
    "plt.xticks(rotation=90)"
   ]
  },
  {
   "cell_type": "code",
   "execution_count": null,
   "metadata": {},
   "outputs": [],
   "source": [
    "data_asia = pd.read_csv('data/gapminder_gdp_asia.csv', index_col='country')\n",
    "data_asia.max().plot() ## why max().plot()? Because .min()/.max() return a Seriesb\n",
    "print(data_asia.idxmax())\n",
    "print(data_asia.idxmin())"
   ]
  },
  {
   "cell_type": "code",
   "execution_count": null,
   "metadata": {},
   "outputs": [],
   "source": [
    "plt.style.available"
   ]
  },
  {
   "cell_type": "code",
   "execution_count": null,
   "metadata": {},
   "outputs": [],
   "source": [
    "data_all = pd.read_csv('data/gapminder_all.csv', index_col='country')\n",
    "plt.style.use('tableau-colorblind10')\n",
    "data_all.plot(kind='scatter', x='gdpPercap_2007', y='lifeExp_2007',\n",
    "             s=data_all['pop_2007']/1e6)\n",
    "plt.xlabel('GDP per capital 2007 [$]', fontsize=16)\n",
    "plt.ylabel('Life expectance [years]', fontsize=16)\n",
    "plt.tick_params(labelsize=12, length=9)\n",
    "fig = plt.gcf() ## get current figure\n",
    "plt.savefig('lifeExp_gdp_2007.png', dpi=300)"
   ]
  },
  {
   "cell_type": "code",
   "execution_count": null,
   "metadata": {},
   "outputs": [],
   "source": [
    "data.plot(kind='bar')\n",
    "fig.savefig('myfig.png')"
   ]
  },
  {
   "cell_type": "markdown",
   "metadata": {},
   "source": [
    "## Chapter 11: lists"
   ]
  },
  {
   "cell_type": "code",
   "execution_count": null,
   "metadata": {},
   "outputs": [],
   "source": [
    "pressures = [.273, .275, .277, .275, .276]\n",
    "print('pressures:', pressures)\n",
    "print('length of pressures:', len(pressures))"
   ]
  },
  {
   "cell_type": "code",
   "execution_count": null,
   "metadata": {},
   "outputs": [],
   "source": [
    "## list is mutable\n",
    "pressures[0] = 0.265\n",
    "print('pressures now:', pressures)"
   ]
  },
  {
   "cell_type": "code",
   "execution_count": null,
   "metadata": {},
   "outputs": [],
   "source": [
    "## .extend versus .append: .extend extends a list with another list by adding the elements, .append adds the list as an element\n",
    "teen_primes = [11, 13, 17, 19]\n",
    "midage_primes = [37, 41, 43, 47]\n",
    "primes = [2, 3, 5]\n",
    "primes.extend(teen_primes)\n",
    "print('primes has now become:', primes)\n",
    "primes.append(midage_primes)\n",
    "print('primes has finally become:', primes)"
   ]
  },
  {
   "cell_type": "markdown",
   "metadata": {},
   "source": [
    "In another word, `extend` maintains the flattend structure of a list, whereas `appending` a list to a list makes the result two-dimensional."
   ]
  },
  {
   "cell_type": "code",
   "execution_count": null,
   "metadata": {},
   "outputs": [],
   "source": [
    "## the statement del\n",
    "primes = [2, 3, 5, 7, 9]\n",
    "del primes[4]\n",
    "print(primes)"
   ]
  },
  {
   "cell_type": "code",
   "execution_count": null,
   "metadata": {},
   "outputs": [],
   "source": [
    "## list can be of mixed type\n",
    "this_and_that = [1, 'asf', 3.4]\n",
    "print(this_and_that)"
   ]
  },
  {
   "cell_type": "code",
   "execution_count": null,
   "metadata": {},
   "outputs": [],
   "source": [
    "## character strings are lists, but immutable\n",
    "element=\"Chemistry\"\n",
    "## element[0] = 'C'\n",
    "## and IndexError can be generated when the index is out of range\n",
    "## element[99]"
   ]
  },
  {
   "cell_type": "code",
   "execution_count": null,
   "metadata": {},
   "outputs": [],
   "source": [
    "list(element)[0]"
   ]
  },
  {
   "cell_type": "code",
   "execution_count": null,
   "metadata": {},
   "outputs": [],
   "source": [
    "element = 'potassium'\n",
    "print(element[::2])\n",
    "print(element[::-1])"
   ]
  },
  {
   "cell_type": "code",
   "execution_count": null,
   "metadata": {},
   "outputs": [],
   "source": [
    "element = 'lithium'\n",
    "print(element[0:20])\n",
    "print(element[-1:3]) ## no output! because per default the stride is 1\n",
    "print(element[-1:3:-1])"
   ]
  },
  {
   "cell_type": "code",
   "execution_count": null,
   "metadata": {},
   "outputs": [],
   "source": [
    "## list(str) converts a string to a list of characters\n",
    "list('love')"
   ]
  },
  {
   "cell_type": "markdown",
   "metadata": {},
   "source": [
    "### sorted and sort\n",
    "\n",
    "`sorted` returns a sorted *copy* of the ltters, whereas `.sort` sorts the list *in place* and does not return anything."
   ]
  },
  {
   "cell_type": "code",
   "execution_count": null,
   "metadata": {},
   "outputs": [],
   "source": [
    "letters = list('gold')\n",
    "result = sorted(letters)\n",
    "print('letters is', letters, 'and result is', result)"
   ]
  },
  {
   "cell_type": "code",
   "execution_count": null,
   "metadata": {},
   "outputs": [],
   "source": [
    "# Program B\n",
    "letters = list('gold')\n",
    "result = letters.sort()\n",
    "print('letters is', letters, 'and result is', result)"
   ]
  },
  {
   "cell_type": "markdown",
   "metadata": {},
   "source": [
    " ## Copying or not"
   ]
  },
  {
   "cell_type": "code",
   "execution_count": null,
   "metadata": {},
   "outputs": [],
   "source": [
    "old = list('gold')\n",
    "new = old\n",
    "new[0] = 'D'\n",
    "print('new is', new, 'and old is', old)"
   ]
  },
  {
   "cell_type": "code",
   "execution_count": null,
   "metadata": {},
   "outputs": [],
   "source": [
    "## [:] generates a copy\n",
    "old = list('gold')\n",
    "new = old[:]\n",
    "new[0] = 'D'\n",
    "print('new is', new, 'and old is', old)"
   ]
  },
  {
   "cell_type": "markdown",
   "metadata": {},
   "source": [
    "## Loop"
   ]
  },
  {
   "cell_type": "code",
   "execution_count": null,
   "metadata": {},
   "outputs": [],
   "source": [
    "for number in [2, 3, 5]:\n",
    "    print(number)"
   ]
  },
  {
   "cell_type": "markdown",
   "metadata": {},
   "source": [
    "The built-in function `range` produces a sequence of numbers. However, a range is not a list: the numberes are produced *on demand* to make looping over large ranges more efficient. Like slicing, its format is `[start:end)`."
   ]
  },
  {
   "cell_type": "code",
   "execution_count": null,
   "metadata": {},
   "outputs": [],
   "source": [
    "for number in range(0,5):\n",
    "    print(number)"
   ]
  },
  {
   "cell_type": "markdown",
   "metadata": {},
   "source": [
    "## Chapter 13: conditions"
   ]
  },
  {
   "cell_type": "code",
   "execution_count": null,
   "metadata": {},
   "outputs": [],
   "source": [
    "def is_higher_than_30k(exp):\n",
    "    if exp > 30E3:\n",
    "        return True;\n",
    "    else:\n",
    "        return False\n",
    "data[2007].apply(is_higher_than_30k)"
   ]
  },
  {
   "cell_type": "markdown",
   "metadata": {},
   "source": [
    "## Chapter 14: looping over datasets"
   ]
  },
  {
   "cell_type": "code",
   "execution_count": null,
   "metadata": {},
   "outputs": [],
   "source": [
    "for filename in ['data/gapminder_gdp_africa.csv',\n",
    "                'data/gapminder_gdp_asia.csv']:\n",
    "    data = pd.read_csv(filename, index_col='country')\n",
    "    print(filename, data.min().min())"
   ]
  },
  {
   "cell_type": "code",
   "execution_count": null,
   "metadata": {},
   "outputs": [],
   "source": [
    "data.shape[0]"
   ]
  },
  {
   "cell_type": "markdown",
   "metadata": {},
   "source": [
    "Globbing means 'matching a set of files with a pattern?."
   ]
  },
  {
   "cell_type": "code",
   "execution_count": null,
   "metadata": {},
   "outputs": [],
   "source": [
    "import glob\n",
    "glob.glob('data/*.csv')"
   ]
  },
  {
   "cell_type": "code",
   "execution_count": null,
   "metadata": {},
   "outputs": [],
   "source": [
    "fig, ax = plt.subplots(1,1)\n",
    "\n",
    "for file in glob.glob('data/gapminder_gdp*.csv'):\n",
    "    dataframe = pd.read_csv(file)\n",
    "    region = file.split('_')[-1][:-4]\n",
    "    dataframe.mean().plot(ax=ax, label=region)\n",
    "plt.legend()\n",
    "plt.xticks(rotation=45, ha='right')\n",
    "plt.show()"
   ]
  }
 ],
 "metadata": {
  "kernelspec": {
   "display_name": "Python 3",
   "language": "python",
   "name": "python3"
  },
  "language_info": {
   "codemirror_mode": {
    "name": "ipython",
    "version": 3
   },
   "file_extension": ".py",
   "mimetype": "text/x-python",
   "name": "python",
   "nbconvert_exporter": "python",
   "pygments_lexer": "ipython3",
   "version": "3.6.9"
  }
 },
 "nbformat": 4,
 "nbformat_minor": 4
}
