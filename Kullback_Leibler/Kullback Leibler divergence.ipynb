{
 "cells": [
  {
   "cell_type": "markdown",
   "id": "765065bc",
   "metadata": {},
   "source": [
    "# Kullback Leibler divergence"
   ]
  },
  {
   "cell_type": "markdown",
   "id": "d190f396",
   "metadata": {},
   "source": [
    "## The Kullback-Leibler divergence as a distance between theory and data"
   ]
  },
  {
   "cell_type": "markdown",
   "id": "b2fb566b",
   "metadata": {},
   "source": [
    "We are in a casino with two tables. There are two types of dices used in this casino: one fair (Dice of Type F), the other manipulated (Dice of Type M). "
   ]
  },
  {
   "cell_type": "code",
   "execution_count": 1,
   "id": "531fd9cf",
   "metadata": {},
   "outputs": [],
   "source": [
    "import numpy as np\n",
    "import matplotlib.pyplot as plt\n",
    "import math\n",
    "from scipy.stats.contingency import crosstab"
   ]
  },
  {
   "cell_type": "markdown",
   "id": "5ac36360",
   "metadata": {},
   "source": [
    "We plot the probabilities of outcomes of both types of dices."
   ]
  },
  {
   "cell_type": "code",
   "execution_count": 2,
   "id": "3a798a88",
   "metadata": {},
   "outputs": [],
   "source": [
    "dice = np.arange(1, 7)\n",
    "dist_f = [1/6] * 6\n",
    "dist_m = [1/4, 1/6, 1/12, 1/12, 1/6, 1/4]\n",
    "assert np.isclose(np.sum(dist_f), 1), f\"P does not sum to 1, instead {np.sum(dist_f)}\"\n",
    "assert np.isclose(np.sum(dist_m), 1), f\"Q does not sum to 1, instead {np.sum(dist_m)}\""
   ]
  },
  {
   "cell_type": "code",
   "execution_count": 3,
   "id": "069031aa",
   "metadata": {},
   "outputs": [
    {
     "data": {
      "text/plain": [
       "<matplotlib.legend.Legend at 0x7f2bee288390>"
      ]
     },
     "execution_count": 3,
     "metadata": {},
     "output_type": "execute_result"
    },
    {
     "data": {
      "image/png": "[encoded data removed]",
      "text/plain": [
       "<Figure size 640x480 with 1 Axes>"
      ]
     },
     "metadata": {},
     "output_type": "display_data"
    }
   ],
   "source": [
    "fig, ax = plt.subplots(1, 1)\n",
    "ax.plot(dice, dist_f, 'bo--', ms=6, label=\"Dice of type F\")\n",
    "ax.plot(dice, dist_m, 'mo--', ms=6, label=\"Dice of type M\")\n",
    "ax.set_ylim(bottom=0, top=0.3)\n",
    "ax.set_xlabel(\"Outcome\")\n",
    "ax.set_ylabel(\"Probability\")\n",
    "ax.legend(loc='best', frameon=False)"
   ]
  },
  {
   "cell_type": "code",
   "execution_count": 4,
   "id": "aec54351",
   "metadata": {},
   "outputs": [],
   "source": [
    "def llr(p, q):\n",
    "    if np.isclose(p, 0): ## if p is 0, the likelihood ratio is zero\n",
    "        return(0)\n",
    "    return(math.log(p) - math.log(q))"
   ]
  },
  {
   "cell_type": "markdown",
   "id": "50b603b9",
   "metadata": {},
   "source": [
    "Before we throw any dice, we can think what may happen if we throw a nice and observe *any* outcome. Each time we observe an outcome, we can guess whether it is more likely to be generated by a fair or a manipulated one. To quantify our guess, we can calculate the log likelihood ratio of two hypotheses given any outcome."
   ]
  },
  {
   "cell_type": "code",
   "execution_count": 19,
   "id": "87b04583",
   "metadata": {},
   "outputs": [
    {
     "name": "stdout",
     "output_type": "stream",
     "text": [
      "Log likelihood ratios of two hypothesis (F over M) for each outcome:\n",
      "    0.000: -0.405\n",
      "    1.000: 0.000\n",
      "    2.000: 0.693\n",
      "    3.000: 0.693\n",
      "    4.000: 0.000\n",
      "    5.000: -0.405\n"
     ]
    }
   ],
   "source": [
    "print(\"Log likelihood ratios of two hypothesis (F over M) for each outcome:\")\n",
    "llrs = []\n",
    "for outcome in range(len(dice)):\n",
    "    ollr = llr(dist_f[outcome], dist_m[outcome])\n",
    "    llrs.append(ollr)\n",
    "    print(f\"    {outcome:.3f}: {ollr:.3f}\")"
   ]
  },
  {
   "cell_type": "markdown",
   "id": "f2a9b504",
   "metadata": {},
   "source": [
    "The log likelihood ratio quantifies how the outcome support either hypothesis. In this example, a positive log likelihood ratio means $F$ is more likely to be true given the outcome. A negative value suggests that $M$ is rather more likely to be true. A value of zero means that both hypotheses are equally likely to be true.\n",
    "\n",
    "Next we will see that the Kullback-Leibler divergence is the expected log likelihood ratio."
   ]
  },
  {
   "cell_type": "code",
   "execution_count": 5,
   "id": "e0b14c2d",
   "metadata": {},
   "outputs": [],
   "source": [
    "def dice_table(outcomes):\n",
    "    res = np.bincount(outcomes, minlength=7)\n",
    "    res = res[1:]\n",
    "    return(res)\n",
    "\n",
    "def dice_prob(outcomes):\n",
    "    dt = dice_table(outcomes)\n",
    "    res = dt/len(outcomes)\n",
    "    return(res)"
   ]
  },
  {
   "cell_type": "markdown",
   "id": "16106e43",
   "metadata": {},
   "source": [
    "Now we stand at the first table, throw the dice several times, and get the following outcomes."
   ]
  },
  {
   "cell_type": "code",
   "execution_count": 6,
   "id": "74c9e471",
   "metadata": {},
   "outputs": [],
   "source": [
    "table1 = [3, 1, 4, 2, 5, 6, 1, 5, 4, 1, 4, 3, 5]"
   ]
  },
  {
   "cell_type": "code",
   "execution_count": 7,
   "id": "3b63ff70",
   "metadata": {},
   "outputs": [],
   "source": [
    "def KL(p, q):\n",
    "    assert np.isclose(np.sum(p), 1), \"p does not seems to be a probability\"\n",
    "    assert np.isclose(np.sum(q), 1), \"q does not seems to be a probability\"\n",
    "    llrs = [llr(x, y) for (x,y) in zip(p, q)]\n",
    "    return(np.dot(p, llrs))"
   ]
  },
  {
   "cell_type": "markdown",
   "id": "1d642dd4",
   "metadata": {},
   "source": [
    "We can calculate the empirical probability of observing each outcome."
   ]
  },
  {
   "cell_type": "code",
   "execution_count": 8,
   "id": "baa6314a",
   "metadata": {},
   "outputs": [
    {
     "name": "stdout",
     "output_type": "stream",
     "text": [
      "[0.23076923 0.07692308 0.15384615 0.23076923 0.23076923 0.07692308]\n"
     ]
    }
   ],
   "source": [
    "table1_prob = dice_prob(table1)\n",
    "print(table1_prob)"
   ]
  },
  {
   "cell_type": "code",
   "execution_count": 9,
   "id": "683cc7b1",
   "metadata": {},
   "outputs": [],
   "source": [
    "KL_T1_F = KL(table1_prob, dist_f)\n",
    "KL_T1_M = KL(table1_prob, dist_m)"
   ]
  },
  {
   "cell_type": "code",
   "execution_count": 10,
   "id": "c2b55708",
   "metadata": {},
   "outputs": [
    {
     "name": "stdout",
     "output_type": "stream",
     "text": [
      "The *relative entropy* of observed data and hypothesis F is 0.094\n",
      "The *Kullback-Leibler divergence* of observed data and hypothesis M is 0.236\n"
     ]
    }
   ],
   "source": [
    "print(f\"The *relative entropy* of observed data and hypothesis F is {KL_T1_F:.3f}\")\n",
    "print(f\"The *Kullback-Leibler divergence* of observed data and hypothesis M is {KL_T1_M:.3f}\")"
   ]
  },
  {
   "cell_type": "markdown",
   "id": "f5ab2177",
   "metadata": {},
   "source": [
    "In our example, the Kullback-Leibler divergence quantifies how surprising the observed data is for a hypothesis. The larger the divergence, the more surprising the data is for the model. When we compare two models that are similarly complex, the one associated with less surprise, i.e. the one has smaller KL divergence, is more likely to be true. In this case, we tend to prefer the hypothesis that the dice used on Table 1 is fair.\n",
    "\n",
    "Let's throw the dice on table 2 for a few times."
   ]
  },
  {
   "cell_type": "code",
   "execution_count": 11,
   "id": "0dc2cb47",
   "metadata": {},
   "outputs": [
    {
     "name": "stdout",
     "output_type": "stream",
     "text": [
      "[0.3 0.2 0.1 0.1 0.1 0.2]\n"
     ]
    }
   ],
   "source": [
    "table2 = [6, 1, 3, 6, 2, 5, 4, 1, 1, 2]\n",
    "table2_prob = dice_prob(table2)\n",
    "print(table2_prob)"
   ]
  },
  {
   "cell_type": "code",
   "execution_count": 12,
   "id": "d233857f",
   "metadata": {},
   "outputs": [
    {
     "name": "stdout",
     "output_type": "stream",
     "text": [
      "The *relative entropy* of the table 2 data and hypothesis F is 0.096\n",
      "The *Kullback-Leibler divergence* of the table 2 data and hypothesis M is 0.032\n"
     ]
    }
   ],
   "source": [
    "KL_T2_F = KL(table2_prob, dist_f)\n",
    "KL_T2_M = KL(table2_prob, dist_m)\n",
    "print(f\"The *relative entropy* of the table 2 data and hypothesis F is {KL_T2_F:.3f}\")\n",
    "print(f\"The *Kullback-Leibler divergence* of the table 2 data and hypothesis M is {KL_T2_M:.3f}\")"
   ]
  },
  {
   "cell_type": "markdown",
   "id": "267da60d",
   "metadata": {},
   "source": [
    "For table 2, we tend to believe that the dice is likely manipulated.\n",
    "\n",
    "Finally we plot the two hypotheses and observations from the two tables. Visually it becomes clear that data from the two tables are likely generated by distinct mechanisms."
   ]
  },
  {
   "cell_type": "code",
   "execution_count": 13,
   "id": "9ce74484",
   "metadata": {},
   "outputs": [
    {
     "data": {
      "text/plain": [
       "<matplotlib.legend.Legend at 0x7f2bee2d5590>"
      ]
     },
     "execution_count": 13,
     "metadata": {},
     "output_type": "execute_result"
    },
    {
     "data": {
      "image/png": "[encoded data removed]",
      "text/plain": [
       "<Figure size 640x480 with 1 Axes>"
      ]
     },
     "metadata": {},
     "output_type": "display_data"
    }
   ],
   "source": [
    "fig, ax = plt.subplots(1, 1)\n",
    "ax.plot(dice, dist_f, 'bo--', ms=6, label=\"Distribution F\")\n",
    "ax.plot(dice, dist_m, 'mo--', ms=6, label=\"Distribution M\")\n",
    "ax.plot(dice, table1_prob, 'bo-', ms=8, label=\"Table 1\")\n",
    "ax.plot(dice, table2_prob, 'mo-', ms=8, label=\"Table 2\")\n",
    "ax.set_ylim(bottom=0, top=0.3)\n",
    "ax.set_xlabel(\"Outcome\")\n",
    "ax.set_ylabel(\"Probability\")\n",
    "ax.legend(loc='best', frameon=False)"
   ]
  },
  {
   "cell_type": "markdown",
   "id": "353f2101",
   "metadata": {},
   "source": [
    "What would happen if we swap the position of T1 (or T2) and that of F (or M)? It turns out that the KL divergence is not symmetric, yet we reach the same conclusion."
   ]
  },
  {
   "cell_type": "code",
   "execution_count": 14,
   "id": "706d208d",
   "metadata": {},
   "outputs": [
    {
     "name": "stdout",
     "output_type": "stream",
     "text": [
      "KL(T1 || F) = 0.094\n",
      "KL(T1 || M) = 0.236\n",
      "KL(F || T1) = 0.108\n",
      "KL(M || T1) = 0.253\n"
     ]
    }
   ],
   "source": [
    "KL_T1_F = KL(table1_prob, dist_f)\n",
    "KL_F_T1 = KL(dist_f, table1_prob)\n",
    "KL_T1_M = KL(table1_prob, dist_m)\n",
    "KL_M_T1 = KL(dist_m, table1_prob)\n",
    "print(f\"KL(T1 || F) = {KL_T1_F:.3f}\")\n",
    "print(f\"KL(T1 || M) = {KL_T1_M:.3f}\")\n",
    "print(f\"KL(F || T1) = {KL_F_T1:.3f}\")\n",
    "print(f\"KL(M || T1) = {KL_M_T1:.3f}\")"
   ]
  },
  {
   "cell_type": "markdown",
   "id": "0140a578",
   "metadata": {},
   "source": [
    "## The Kullback-Leibler divergence as a distance between any two distributions"
   ]
  },
  {
   "cell_type": "markdown",
   "id": "ed8ef8c0",
   "metadata": {},
   "source": [
    "We can calculate Kullback-Leibler divergence for any two distributions."
   ]
  },
  {
   "cell_type": "code",
   "execution_count": 16,
   "id": "150385b1",
   "metadata": {},
   "outputs": [
    {
     "data": {
      "text/plain": [
       "0.09589402415059367"
      ]
     },
     "execution_count": 16,
     "metadata": {},
     "output_type": "execute_result"
    }
   ],
   "source": [
    "KL(dist_f, dist_m)"
   ]
  },
  {
   "cell_type": "code",
   "execution_count": 17,
   "id": "25b4add0",
   "metadata": {},
   "outputs": [
    {
     "data": {
      "text/plain": [
       "0.08720802396075797"
      ]
     },
     "execution_count": 17,
     "metadata": {},
     "output_type": "execute_result"
    }
   ],
   "source": [
    "KL(dist_m, dist_f)"
   ]
  },
  {
   "cell_type": "markdown",
   "id": "2ca6c8fe",
   "metadata": {},
   "source": [
    "Suppose we now introduce the third type of dice with lead. We can see that it has a larger divergence with regard to the fair dice than the manipulated one, which means that it is further from being fair than the manipulated one."
   ]
  },
  {
   "cell_type": "code",
   "execution_count": 18,
   "id": "384fed92",
   "metadata": {},
   "outputs": [
    {
     "name": "stdout",
     "output_type": "stream",
     "text": [
      "1.791759469228055\n",
      "0.08720802396075797\n"
     ]
    }
   ],
   "source": [
    "dist_l = [0, 0, 0, 0, 0, 1]\n",
    "print(KL(dist_l, dist_f))\n",
    "print(KL(dist_m, dist_f))"
   ]
  }
 ],
 "metadata": {
  "kernelspec": {
   "display_name": "Python 3 (ipykernel)",
   "language": "python",
   "name": "python3"
  },
  "language_info": {
   "codemirror_mode": {
    "name": "ipython",
    "version": 3
   },
   "file_extension": ".py",
   "mimetype": "text/x-python",
   "name": "python",
   "nbconvert_exporter": "python",
   "pygments_lexer": "ipython3",
   "version": "3.11.3"
  }
 },
 "nbformat": 4,
 "nbformat_minor": 5
}
